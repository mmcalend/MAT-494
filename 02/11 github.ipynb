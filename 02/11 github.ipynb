{
  "nbformat": 4,
  "nbformat_minor": 0,
  "metadata": {
    "colab": {
      "name": "Copy of github.ipynb",
      "version": "0.3.2",
      "provenance": [],
      "include_colab_link": true
    },
    "kernelspec": {
      "display_name": "Python 3",
      "language": "python",
      "name": "python3"
    }
  },
  "cells": [
    {
      "cell_type": "markdown",
      "metadata": {
        "id": "view-in-github",
        "colab_type": "text"
      },
      "source": [
        "<a href=\"https://colab.research.google.com/github/mmcalend/MAT-494/blob/master/02/11%20github.ipynb\" target=\"_parent\"><img src=\"https://colab.research.google.com/assets/colab-badge.svg\" alt=\"Open In Colab\"/></a>"
      ]
    },
    {
      "metadata": {
        "id": "TEbVDhVMw4e6",
        "colab_type": "text"
      },
      "cell_type": "markdown",
      "source": [
        "# GitHub: What do we people talk about, when they talk about it?"
      ]
    },
    {
      "metadata": {
        "id": "p3_P7Njzw4fB",
        "colab_type": "text"
      },
      "cell_type": "markdown",
      "source": [
        "![github](https://studyguide.itu.dk/~/media/studyguide/student-life/facilities-at-itu/it-facilities/github/github_logo.png?h=248&w=573&la=en)"
      ]
    },
    {
      "metadata": {
        "id": "jFZNrpJ-w4fF",
        "colab_type": "code",
        "outputId": "4d3a6014-1a7c-4436-975d-3f3c9f9afde6",
        "colab": {}
      },
      "cell_type": "code",
      "source": [
        "from IPython.display import YouTubeVideo\n",
        "YouTubeVideo(\"ASELrVgtPmM?t=41\")"
      ],
      "execution_count": 0,
      "outputs": [
        {
          "output_type": "execute_result",
          "data": {
            "text/html": [
              "\n",
              "        <iframe\n",
              "            width=\"400\"\n",
              "            height=\"300\"\n",
              "            src=\"https://www.youtube.com/embed/ASELrVgtPmM?t=41\"\n",
              "            frameborder=\"0\"\n",
              "            allowfullscreen\n",
              "        ></iframe>\n",
              "        "
            ],
            "text/plain": [
              "<IPython.lib.display.YouTubeVideo at 0x7f045d91d668>"
            ]
          },
          "metadata": {
            "tags": []
          },
          "execution_count": 7
        }
      ]
    },
    {
      "metadata": {
        "id": "dPc1Kgh7w4fU",
        "colab_type": "text"
      },
      "cell_type": "markdown",
      "source": [
        "## Branches and commits"
      ]
    },
    {
      "metadata": {
        "id": "5SxkvPmVw4fZ",
        "colab_type": "text"
      },
      "cell_type": "markdown",
      "source": [
        "![branches](https://cdn-images-1.medium.com/max/1600/1*5fzIWE84xzQUAcmVMJ4Ouw.png)"
      ]
    },
    {
      "metadata": {
        "id": "zVCnQ45bw4fb",
        "colab_type": "text"
      },
      "cell_type": "markdown",
      "source": [
        "### Download GitHub desktop: https://desktop.github.com/\n",
        "### (or use the command line)"
      ]
    },
    {
      "metadata": {
        "id": "bXr5KJrbw4fd",
        "colab_type": "text"
      },
      "cell_type": "markdown",
      "source": [
        "## Quick GitHub in-class exercise "
      ]
    }
  ]
}